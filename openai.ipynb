{
 "cells": [
  {
   "cell_type": "code",
   "execution_count": 1,
   "metadata": {},
   "outputs": [
    {
     "data": {
      "text/plain": [
       "True"
      ]
     },
     "execution_count": 1,
     "metadata": {},
     "output_type": "execute_result"
    }
   ],
   "source": [
    "import os\n",
    "from openai import AzureOpenAI, OpenAI\n",
    "from dotenv import load_dotenv\n",
    "\n",
    "load_dotenv()"
   ]
  },
  {
   "cell_type": "code",
   "execution_count": 2,
   "id": "19bcf509",
   "metadata": {},
   "outputs": [],
   "source": [
    "client = AzureOpenAI(\n",
    "    api_version=\"2025-01-01-preview\",\n",
    "    azure_endpoint=os.getenv(\"AZURE_OPENAI_ENDPOINT\"),\n",
    "    api_key=os.getenv(\"AZURE_OPENAI_KEY\"),\n",
    ")\n",
    "\n",
    "# client = OpenAI(\n",
    "#     api_key=os.getenv(\"OPENAI_API_KEY\")\n",
    "# )"
   ]
  },
  {
   "cell_type": "code",
   "execution_count": 3,
   "id": "30b9dbae",
   "metadata": {},
   "outputs": [],
   "source": [
    "def chat(messages):\n",
    "    response = client.chat.completions.create(\n",
    "        messages=messages,\n",
    "        max_tokens=16384,\n",
    "        temperature=1.0,\n",
    "        top_p=1.0,\n",
    "        model=os.getenv(\"AZURE_OPENAI_DEPLOYMENT_NAME\"),\n",
    "    )\n",
    "    return response.choices[0].message.content"
   ]
  },
  {
   "cell_type": "code",
   "execution_count": 4,
   "id": "9eaa6abc",
   "metadata": {},
   "outputs": [],
   "source": [
    "def chat_with_history(history, user_input):\n",
    "    messages = history + [{\n",
    "        \"role\": \"user\",\n",
    "        \"content\": user_input,\n",
    "    }]\n",
    "    response = chat(messages)\n",
    "    messages.append({\n",
    "        \"role\": \"assistant\",\n",
    "        \"content\": response,\n",
    "    })\n",
    "    return messages, response"
   ]
  },
  {
   "cell_type": "code",
   "execution_count": 5,
   "id": "8585f890",
   "metadata": {},
   "outputs": [],
   "source": [
    "history = [\n",
    "    {\"role\": \"system\", \"content\": \"You are a helpful assistant that tells jokes in poem.\"},\n",
    "]\n",
    "\n",
    "history, response = chat_with_history(history, \"tell me a joke\")\n",
    "history, response = chat_with_history(history, \"tell me a another joke\")"
   ]
  },
  {
   "cell_type": "code",
   "execution_count": 6,
   "id": "a3e88e85",
   "metadata": {},
   "outputs": [
    {
     "name": "stdout",
     "output_type": "stream",
     "text": [
      "Sure thing — here’s your third joke in poem form:  \n",
      "\n",
      "---\n",
      "\n",
      "A chicken once signed up for school,  \n",
      "Hoping to learn every rule.  \n",
      "It studied real hard,  \n",
      "And became a barnyard guard…  \n",
      "Now it yells, “No crossing without a cluck-pass, fool!”  \n",
      "\n",
      "---\n",
      "\n",
      "Do you want me to make a *really* funny one with a twist ending next?\n"
     ]
    }
   ],
   "source": [
    "history, response = chat_with_history(history, \"tell me a third joke\")\n",
    "print(response)"
   ]
  },
  {
   "cell_type": "code",
   "execution_count": 20,
   "id": "94c7899c",
   "metadata": {},
   "outputs": [],
   "source": [
    "import requests\n",
    "def get_weather(location):\n",
    "    response = requests.get(f\"http://wttr.in/{location}?format=3\")\n",
    "    return response.text"
   ]
  },
  {
   "cell_type": "code",
   "execution_count": 21,
   "id": "43d6a513",
   "metadata": {},
   "outputs": [
    {
     "data": {
      "text/plain": [
       "'Bangalore: ⛅️  +27°C\\n'"
      ]
     },
     "execution_count": 21,
     "metadata": {},
     "output_type": "execute_result"
    }
   ],
   "source": [
    "get_weather(\"Bangalore\")"
   ]
  },
  {
   "cell_type": "code",
   "execution_count": 31,
   "id": "fae0792a",
   "metadata": {},
   "outputs": [
    {
     "name": "stdout",
     "output_type": "stream",
     "text": [
      "Thought: To recommend suitable activities, it would help to know the current weather in Bangalore, as it may influence whether outdoor or indoor plans are better.  \n",
      "Tool: get_weather(location)  \n",
      "Input: Bangalore  \n"
     ]
    }
   ],
   "source": [
    "system_prompt = \"\"\"\n",
    "You are a helpful assistant.\n",
    "You have access to following tools:\n",
    "1. get_weather(location): A function that returns current weather in location.\n",
    "2. foo(): A function that does nothing.\n",
    "\n",
    "You must use the tools to answer user questions. For using the tool you must use the following format:\n",
    "User: <user question>\n",
    "Thought: <your thought process>\n",
    "Tool: <tool name>\n",
    "Input: <input to the tool>\n",
    "Observation: <output of the tool. Output from the tool will be passed in subsequent calls.>\n",
    "\n",
    "If you do not need to use a tool any more, you can answer the question directly.\n",
    "\"\"\"\n",
    "\n",
    "history = [\n",
    "    {\"role\": \"system\", \"content\": system_prompt},\n",
    "]\n",
    "history, response = chat_with_history(history, \"What activities should I do in Bangalore today?\")\n",
    "print(response)\n"
   ]
  },
  {
   "cell_type": "code",
   "execution_count": null,
   "id": "9e092ac1",
   "metadata": {},
   "outputs": [
    {
     "name": "stdout",
     "output_type": "stream",
     "text": [
      "Since Melbourne is currently cloudy with a cool temperature of 11°C, outdoor activities that don’t rely on sunny weather are ideal, along with some indoor options to keep warm.\n",
      "\n",
      "Here are some suggestions for today:  \n",
      "1. **Explore the National Gallery of Victoria (NGV)** – Perfect for a quiet day appreciating art indoors.  \n",
      "2. **Visit Melbourne Museum** – Learn about history, science, and culture while staying warm.  \n",
      "3. **Stroll through the Royal Botanic Gardens** – The weather is good for an invigorating walk without worrying about harsh sun.  \n",
      "4. **Take a coffee crawl through Melbourne’s laneways** – The city’s café culture is unmatched, and cloudy weather makes it extra cozy.  \n",
      "5. **Check out Queen Victoria Market** – Great for picking up fresh produce and unique goods.  \n",
      "6. **Attend a theatre show or live music event** – Melbourne has a vibrant arts scene worth exploring.  \n",
      "\n",
      "If you’d like, I can also suggest **specific events happening in Melbourne today**. Would you like me to do that?\n"
     ]
    }
   ],
   "source": [
    "if \"get_weather\" in response:\n",
    "    location = response.split(\"Input:\")[-1].strip()\n",
    "    current_weather = get_weather(location)\n",
    "    history, response = chat_with_history(history, f\"Observation: {current_weather}\")\n",
    "print(response)"
   ]
  },
  {
   "cell_type": "code",
   "execution_count": 18,
   "id": "00e29da8",
   "metadata": {},
   "outputs": [
    {
     "name": "stdout",
     "output_type": "stream",
     "text": [
      "[{'role': 'system', 'content': '\\nYou are a helpful assistant.\\nYou have access to following tools:\\n1. get_weather(): A function that returns current weather in melbourne.\\n2. foo(): A function that does nothing.\\n\\nYou must use the tools to answer user questions. For using the tool you must use the following format:\\nUser: <user question>\\nThought: <your thought process>\\nTool: <tool name>\\nInput: <input to the tool>\\nObservation: <output of the tool. Output from the tool will be passed in subsequent calls.>\\n\\nIf you do not need to use a tool any more, you can answer the question directly.\\n'}, {'role': 'user', 'content': 'What is weather in melbourne?'}, {'role': 'assistant', 'content': 'Thought: The user is asking about the current weather in Melbourne, so I should use the get_weather() tool.  \\nTool: get_weather()  \\nInput: None  '}, {'role': 'user', 'content': 'Observation: Melbourne: ☁️   +11°C\\n'}, {'role': 'assistant', 'content': 'The current weather in Melbourne is cloudy with a temperature of 11°C.'}]\n"
     ]
    }
   ],
   "source": [
    "print(history)"
   ]
  }
 ],
 "metadata": {
  "kernelspec": {
   "display_name": ".venv (3.13.6)",
   "language": "python",
   "name": "python3"
  },
  "language_info": {
   "codemirror_mode": {
    "name": "ipython",
    "version": 3
   },
   "file_extension": ".py",
   "mimetype": "text/x-python",
   "name": "python",
   "nbconvert_exporter": "python",
   "pygments_lexer": "ipython3",
   "version": "3.13.6"
  }
 },
 "nbformat": 4,
 "nbformat_minor": 5
}
