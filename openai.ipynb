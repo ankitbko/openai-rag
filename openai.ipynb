{
 "cells": [
  {
   "cell_type": "code",
   "execution_count": 40,
   "metadata": {},
   "outputs": [
    {
     "data": {
      "text/plain": [
       "True"
      ]
     },
     "execution_count": 40,
     "metadata": {},
     "output_type": "execute_result"
    }
   ],
   "source": [
    "import os\n",
    "from openai import AzureOpenAI\n",
    "from dotenv import load_dotenv\n",
    "\n",
    "load_dotenv()"
   ]
  },
  {
   "cell_type": "code",
   "execution_count": 41,
   "id": "19bcf509",
   "metadata": {},
   "outputs": [],
   "source": [
    "client = AzureOpenAI(\n",
    "    api_version=\"2025-01-01-preview\",\n",
    "    azure_endpoint=os.getenv(\"AZURE_OPENAI_ENDPOINT\"),\n",
    "    api_key=os.getenv(\"AZURE_OPENAI_KEY\"),\n",
    ")"
   ]
  },
  {
   "cell_type": "code",
   "execution_count": 42,
   "id": "30b9dbae",
   "metadata": {},
   "outputs": [],
   "source": [
    "def chat(messages):\n",
    "    response = client.chat.completions.create(\n",
    "        messages=messages,\n",
    "        max_tokens=16384,\n",
    "        temperature=1.0,\n",
    "        top_p=1.0,\n",
    "        model=os.getenv(\"AZURE_OPENAI_DEPLOYMENT_NAME\"),\n",
    "    )\n",
    "    return response.choices[0].message.content"
   ]
  },
  {
   "cell_type": "code",
   "execution_count": 43,
   "id": "9eaa6abc",
   "metadata": {},
   "outputs": [],
   "source": [
    "def chat_with_history(history, user_input):\n",
    "    messages = history + [{\n",
    "        \"role\": \"user\",\n",
    "        \"content\": user_input,\n",
    "    }]\n",
    "    response = chat(messages)\n",
    "    messages.append({\n",
    "        \"role\": \"assistant\",\n",
    "        \"content\": response,\n",
    "    })\n",
    "    return messages, response"
   ]
  },
  {
   "cell_type": "code",
   "execution_count": 44,
   "id": "8585f890",
   "metadata": {},
   "outputs": [],
   "source": [
    "history = []\n",
    "\n",
    "history, response = chat_with_history(history, \"tell me a joke\")\n",
    "history, response = chat_with_history(history, \"tell me a another joke\")"
   ]
  },
  {
   "cell_type": "code",
   "execution_count": 45,
   "id": "a3e88e85",
   "metadata": {},
   "outputs": [
    {
     "name": "stdout",
     "output_type": "stream",
     "text": [
      "Sure! Here’s your third joke:  \n",
      "\n",
      "Why don’t oysters donate to charity?  \n",
      "\n",
      "Because they’re *shellfish*! 🦪😁  \n",
      "\n",
      "Want me to give you a whole list of jokes so you have plenty to choose from?\n"
     ]
    }
   ],
   "source": [
    "history, response = chat_with_history(history, \"tell me a third joke\")\n",
    "print(response)"
   ]
  },
  {
   "cell_type": "code",
   "execution_count": null,
   "id": "927b69a3",
   "metadata": {},
   "outputs": [],
   "source": []
  }
 ],
 "metadata": {
  "kernelspec": {
   "display_name": ".venv (3.13.6)",
   "language": "python",
   "name": "python3"
  },
  "language_info": {
   "codemirror_mode": {
    "name": "ipython",
    "version": 3
   },
   "file_extension": ".py",
   "mimetype": "text/x-python",
   "name": "python",
   "nbconvert_exporter": "python",
   "pygments_lexer": "ipython3",
   "version": "3.13.6"
  }
 },
 "nbformat": 4,
 "nbformat_minor": 5
}
