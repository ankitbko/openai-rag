{
 "cells": [
  {
   "cell_type": "code",
   "execution_count": null,
   "metadata": {},
   "outputs": [
    {
     "data": {
      "text/plain": [
       "True"
      ]
     },
     "execution_count": 40,
     "metadata": {},
     "output_type": "execute_result"
    }
   ],
   "source": [
    "import os\n",
    "from openai import AzureOpenAI, OpenAI\n",
    "from dotenv import load_dotenv\n",
    "\n",
    "load_dotenv()"
   ]
  },
  {
   "cell_type": "code",
   "execution_count": null,
   "id": "19bcf509",
   "metadata": {},
   "outputs": [],
   "source": [
    "from asyncio.__main__ import key\n",
    "\n",
    "\n",
    "client = AzureOpenAI(\n",
    "    api_version=\"2025-01-01-preview\",\n",
    "    azure_endpoint=os.getenv(\"AZURE_OPENAI_ENDPOINT\"),\n",
    "    api_key=os.getenv(\"AZURE_OPENAI_KEY\"),\n",
    ")\n",
    "\n",
    "# client = OpenAI(\n",
    "#     api_key=os.getenv(\"OPENAI_API_KEY\")\n",
    "# )"
   ]
  },
  {
   "cell_type": "code",
   "execution_count": 42,
   "id": "30b9dbae",
   "metadata": {},
   "outputs": [],
   "source": [
    "def chat(messages):\n",
    "    response = client.chat.completions.create(\n",
    "        messages=messages,\n",
    "        max_tokens=16384,\n",
    "        temperature=1.0,\n",
    "        top_p=1.0,\n",
    "        model=os.getenv(\"AZURE_OPENAI_DEPLOYMENT_NAME\"),\n",
    "    )\n",
    "    return response.choices[0].message.content"
   ]
  },
  {
   "cell_type": "code",
   "execution_count": 43,
   "id": "9eaa6abc",
   "metadata": {},
   "outputs": [],
   "source": [
    "def chat_with_history(history, user_input):\n",
    "    messages = history + [{\n",
    "        \"role\": \"user\",\n",
    "        \"content\": user_input,\n",
    "    }]\n",
    "    response = chat(messages)\n",
    "    messages.append({\n",
    "        \"role\": \"assistant\",\n",
    "        \"content\": response,\n",
    "    })\n",
    "    return messages, response"
   ]
  },
  {
   "cell_type": "code",
   "execution_count": 46,
   "id": "8585f890",
   "metadata": {},
   "outputs": [],
   "source": [
    "history = [\n",
    "    {\"role\": \"system\", \"content\": \"You are a helpful assistant that tells jokes in poem.\"},\n",
    "]\n",
    "\n",
    "history, response = chat_with_history(history, \"tell me a joke\")\n",
    "history, response = chat_with_history(history, \"tell me a another joke\")"
   ]
  },
  {
   "cell_type": "code",
   "execution_count": 47,
   "id": "a3e88e85",
   "metadata": {},
   "outputs": [
    {
     "name": "stdout",
     "output_type": "stream",
     "text": [
      "Sure thing! Here’s your third joke — short, snappy, and still in rhyme:  \n",
      "\n",
      "---\n",
      "\n",
      "I told my fridge a clever pun,  \n",
      "It hummed and laughed — I guess I won.  \n",
      "But now it won’t stop making cheer...  \n",
      "Guess it’s just *running on cool* this year!  \n",
      "\n",
      "---\n",
      "\n",
      "Want me to make your **fourth joke a bit absurd and wacky**?\n"
     ]
    }
   ],
   "source": [
    "history, response = chat_with_history(history, \"tell me a third joke\")\n",
    "print(response)"
   ]
  }
 ],
 "metadata": {
  "kernelspec": {
   "display_name": ".venv (3.13.6)",
   "language": "python",
   "name": "python3"
  },
  "language_info": {
   "codemirror_mode": {
    "name": "ipython",
    "version": 3
   },
   "file_extension": ".py",
   "mimetype": "text/x-python",
   "name": "python",
   "nbconvert_exporter": "python",
   "pygments_lexer": "ipython3",
   "version": "3.13.6"
  }
 },
 "nbformat": 4,
 "nbformat_minor": 5
}
